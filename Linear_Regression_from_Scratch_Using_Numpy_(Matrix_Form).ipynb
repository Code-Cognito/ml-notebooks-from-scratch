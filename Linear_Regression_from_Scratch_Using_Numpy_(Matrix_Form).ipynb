{
  "nbformat": 4,
  "nbformat_minor": 0,
  "metadata": {
    "colab": {
      "provenance": [],
      "authorship_tag": "ABX9TyMdLRQi8lWFB6tf+zuf5FIx",
      "include_colab_link": true
    },
    "kernelspec": {
      "name": "python3",
      "display_name": "Python 3"
    },
    "language_info": {
      "name": "python"
    }
  },
  "cells": [
    {
      "cell_type": "markdown",
      "metadata": {
        "id": "view-in-github",
        "colab_type": "text"
      },
      "source": [
        "<a href=\"https://colab.research.google.com/github/Code-Cognito/ml-notebooks-from-scratch/blob/main/Linear_Regression_from_Scratch_Using_Numpy_(Matrix_Form).ipynb\" target=\"_parent\"><img src=\"https://colab.research.google.com/assets/colab-badge.svg\" alt=\"Open In Colab\"/></a>"
      ]
    },
    {
      "cell_type": "code",
      "execution_count": 1,
      "metadata": {
        "id": "69Mum2TaG3vE"
      },
      "outputs": [],
      "source": [
        "import numpy as np"
      ]
    },
    {
      "cell_type": "markdown",
      "source": [
        "First, lets take the independent feature x. So here we have taken 50 numbers from 0 to 10 evenly devided. For this we used **np.linespace()**"
      ],
      "metadata": {
        "id": "CYWyk8pTK_M2"
      }
    },
    {
      "cell_type": "code",
      "source": [
        "x = np.linspace(0,10,50)"
      ],
      "metadata": {
        "id": "qvSIKFzcHGpC"
      },
      "execution_count": 2,
      "outputs": []
    },
    {
      "cell_type": "code",
      "source": [
        "print(x)"
      ],
      "metadata": {
        "colab": {
          "base_uri": "https://localhost:8080/"
        },
        "id": "Fpz9yMU_HSu5",
        "outputId": "94fb8f0b-ff55-4cd7-e105-e4faf6d8d1cc"
      },
      "execution_count": 3,
      "outputs": [
        {
          "output_type": "stream",
          "name": "stdout",
          "text": [
            "[ 0.          0.20408163  0.40816327  0.6122449   0.81632653  1.02040816\n",
            "  1.2244898   1.42857143  1.63265306  1.83673469  2.04081633  2.24489796\n",
            "  2.44897959  2.65306122  2.85714286  3.06122449  3.26530612  3.46938776\n",
            "  3.67346939  3.87755102  4.08163265  4.28571429  4.48979592  4.69387755\n",
            "  4.89795918  5.10204082  5.30612245  5.51020408  5.71428571  5.91836735\n",
            "  6.12244898  6.32653061  6.53061224  6.73469388  6.93877551  7.14285714\n",
            "  7.34693878  7.55102041  7.75510204  7.95918367  8.16326531  8.36734694\n",
            "  8.57142857  8.7755102   8.97959184  9.18367347  9.3877551   9.59183673\n",
            "  9.79591837 10.        ]\n"
          ]
        }
      ]
    },
    {
      "cell_type": "markdown",
      "source": [
        "Now the dependent or the target variable.\n",
        "\n",
        "We know to create a line, for x the y is\n",
        "> y= mx +c\n",
        "\n",
        "Here the slop m is 2 and the intercept c is 3. So we have made a line with\n",
        ">y = 2*x + 3\n",
        "\n",
        "Now the\n",
        ">np.random.randn(50)\n",
        "\n",
        "means that we are taking random 50 values from a standard normal distribution, which has mean = 0 and std = 1\n",
        "\n",
        "by this we have added noise around the main line. It is like real world data."
      ],
      "metadata": {
        "id": "0RQrLGAtLY72"
      }
    },
    {
      "cell_type": "code",
      "source": [
        "y = 2*x + 3 + np.random.randn(50)\n",
        "print(y)"
      ],
      "metadata": {
        "colab": {
          "base_uri": "https://localhost:8080/"
        },
        "id": "dGzeYPm3HU2s",
        "outputId": "e242c992-3d88-408a-b69b-dcabc6113454"
      },
      "execution_count": 4,
      "outputs": [
        {
          "output_type": "stream",
          "name": "stdout",
          "text": [
            "[ 2.22757071  3.40654562  2.72533883  4.35445361  3.29624951  6.51116149\n",
            "  6.82103448  6.62160084  6.19030238  5.72122857  8.35572031  5.64830519\n",
            "  6.75331467  8.97119343  9.52746711 10.03384786 10.06139541  9.14727625\n",
            " 10.4945605   9.81355085 12.4862111  12.09165504 10.86970434 13.58463471\n",
            " 14.46041447 14.1603116  12.67765272 14.20375167 15.52796769 17.17192566\n",
            " 15.57270877 14.97289727 15.22812874 15.3931309  15.7301562  18.71271517\n",
            " 16.98975975 19.40454497 18.13972571 19.57422406 19.80020103 20.13921706\n",
            " 21.25771953 20.25327324 21.45827187 20.07683586 22.96278866 22.91285909\n",
            " 23.32303409 23.95580277]\n"
          ]
        }
      ]
    },
    {
      "cell_type": "code",
      "source": [
        "import seaborn as sns"
      ],
      "metadata": {
        "id": "c6DfUfMGJCqw"
      },
      "execution_count": 5,
      "outputs": []
    },
    {
      "cell_type": "code",
      "source": [
        "sns.scatterplot(x= x, y=y)"
      ],
      "metadata": {
        "colab": {
          "base_uri": "https://localhost:8080/",
          "height": 452
        },
        "id": "gwgcNGnTKgUS",
        "outputId": "ebfa088b-06c6-43ab-9873-5367e8f41193"
      },
      "execution_count": 6,
      "outputs": [
        {
          "output_type": "execute_result",
          "data": {
            "text/plain": [
              "<Axes: >"
            ]
          },
          "metadata": {},
          "execution_count": 6
        },
        {
          "output_type": "display_data",
          "data": {
            "text/plain": [
              "<Figure size 640x480 with 1 Axes>"
            ],
            "image/png": "[encoded data removed]"
          },
          "metadata": {}
        }
      ]
    },
    {
      "cell_type": "code",
      "source": [
        "X_b = np.c_[np.ones((50,1)),x]"
      ],
      "metadata": {
        "id": "P-3VfOaYlc4M"
      },
      "execution_count": 7,
      "outputs": []
    },
    {
      "cell_type": "markdown",
      "source": [
        "Here We have done many things. Lets first understand what we are trying to accomplish here.\n",
        "> X_b = np.c_[np.ones((50,1)),x]\n",
        "\n",
        "From this line we diving into model creation. We transform the independent feature into 1 , x_value.\n",
        "\n",
        "So first we need to transform our X column to mXi + c\n",
        "\n",
        "in matrix formate we need X.theta, the theta is C and M (column wise), so when we do matrix dot production, it will ultimately c + mX1, c + mX2, c + mX3...\n",
        "\n",
        "This is how we are preparing our X col.\n",
        "\n",
        "Now **The Code explaination Part:**\n",
        "---\n",
        "First we have created 50x1 shaped col with\n",
        "> np.ones((50,1))\n",
        "\n",
        "Then we concatenate this col with X by\n",
        "> np.c_(np.ones((50,1)),X)\n",
        "\n",
        "This will create our X_b col, shape as 50x2\n"
      ],
      "metadata": {
        "id": "p61qgH9flF36"
      }
    },
    {
      "cell_type": "markdown",
      "source": [
        "---\n",
        "\n",
        "Now We will Implement the **Normal Equation** for linear regression:\n",
        "\n",
        "\n",
        "$ \\theta = \\left( X^{T} X \\right)^{-1} X^{T} y  $\n",
        "\n"
      ],
      "metadata": {
        "id": "9Bv_izMksAXH"
      }
    },
    {
      "cell_type": "code",
      "source": [
        "theta = np.linalg.inv(X_b.T @ X_b) @ (X_b.T @ y)\n",
        "\n",
        "print(\"Theta:  \", theta)\n",
        "print(\"Slope [m]:  \", theta[1])\n",
        "print(\"Intercept [c]:  \", theta[0])"
      ],
      "metadata": {
        "colab": {
          "base_uri": "https://localhost:8080/"
        },
        "id": "UptMU4L5ev6J",
        "outputId": "19fd4637-31b3-4540-e51a-28cd6480549c"
      },
      "execution_count": 8,
      "outputs": [
        {
          "output_type": "stream",
          "name": "stdout",
          "text": [
            "Theta:   [2.92013996 2.05506937]\n",
            "Slope [m]:   2.0550693737386543\n",
            "Intercept [c]:   2.920139958093901\n"
          ]
        }
      ]
    },
    {
      "cell_type": "markdown",
      "source": [
        "Here we have used linear algebra, inverse function. And the @ means matrix multiplication."
      ],
      "metadata": {
        "id": "nv4vb1c1ti7E"
      }
    },
    {
      "cell_type": "markdown",
      "source": [
        "---\n",
        "\n",
        "Now as we have the theta and the X_b with is ready to be multiplied, lets get the predicted y"
      ],
      "metadata": {
        "id": "n6hvYiSBuGhc"
      }
    },
    {
      "cell_type": "code",
      "source": [
        "y_pred = X_b @ theta"
      ],
      "metadata": {
        "id": "C9NI8Ob8uWsi"
      },
      "execution_count": 10,
      "outputs": []
    },
    {
      "cell_type": "code",
      "source": [
        "import matplotlib.pyplot as plt"
      ],
      "metadata": {
        "id": "JCknSpAcutzx"
      },
      "execution_count": 13,
      "outputs": []
    },
    {
      "cell_type": "code",
      "source": [
        "plt.scatter(x=x,y=y, color = \"blue\", label = \"Data\")\n",
        "plt.plot(x,y_pred, color = \"red\", label = \"Regression Line\")\n",
        "plt.xlabel(\"X\")\n",
        "plt.ylabel(\"Y\")\n",
        "plt.show()"
      ],
      "metadata": {
        "colab": {
          "base_uri": "https://localhost:8080/",
          "height": 454
        },
        "id": "q5qtD11zwNL7",
        "outputId": "ca560201-30d4-4f14-8364-aeafa82a584a"
      },
      "execution_count": 17,
      "outputs": [
        {
          "output_type": "display_data",
          "data": {
            "text/plain": [
              "<Figure size 640x480 with 1 Axes>"
            ],
            "image/png": "[encoded data removed]"
          },
          "metadata": {}
        }
      ]
    },
    {
      "cell_type": "markdown",
      "source": [
        "Here we have ploted the y(dependent variable) as scatter plot and the y_pred( predicted y) as line.\n",
        "\n",
        "Now we can predict something that is not in x(independent variable)"
      ],
      "metadata": {
        "id": "BIqd_ffBzy3p"
      }
    },
    {
      "cell_type": "code",
      "source": [
        "X_new = np.array([[1,11]])\n",
        "\n",
        "y_pred_new = X_new @ theta\n",
        "\n",
        "print(\"For x = 11 , we have predicted y = \", y_pred_new)"
      ],
      "metadata": {
        "colab": {
          "base_uri": "https://localhost:8080/"
        },
        "id": "dnNFsKJx0lch",
        "outputId": "cbcadcab-57f9-403a-b725-2d308efd3f72"
      },
      "execution_count": 26,
      "outputs": [
        {
          "output_type": "stream",
          "name": "stdout",
          "text": [
            "For x = 11 , we have predicted y =  [25.52590307]\n"
          ]
        }
      ]
    }
  ]
}