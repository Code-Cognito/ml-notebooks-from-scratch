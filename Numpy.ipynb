{
  "nbformat": 4,
  "nbformat_minor": 0,
  "metadata": {
    "colab": {
      "provenance": [],
      "authorship_tag": "ABX9TyMncqKPqbkGsR9AR7Fgktd6",
      "include_colab_link": true
    },
    "kernelspec": {
      "name": "python3",
      "display_name": "Python 3"
    },
    "language_info": {
      "name": "python"
    }
  },
  "cells": [
    {
      "cell_type": "markdown",
      "metadata": {
        "id": "view-in-github",
        "colab_type": "text"
      },
      "source": [
        "<a href=\"https://colab.research.google.com/github/Code-Cognito/ml-notebooks-from-scratch/blob/main/Numpy.ipynb\" target=\"_parent\"><img src=\"https://colab.research.google.com/assets/colab-badge.svg\" alt=\"Open In Colab\"/></a>"
      ]
    },
    {
      "cell_type": "code",
      "execution_count": null,
      "metadata": {
        "id": "fC9af_6aD4pQ"
      },
      "outputs": [],
      "source": [
        "import numpy as np"
      ]
    },
    {
      "cell_type": "markdown",
      "source": [
        "The first Question is:\n",
        "\n",
        "**A function to compute dot product of two vectors.**\n",
        "\n",
        "It means we have two **Vectors** such as a = [a1,b1,c1] and b = [a2,b2,c2]. So If we want to have **dot product** of them we need to do\n",
        "\n",
        "\n",
        "> (a1 * a2) + (b1 * b2)+ (c1 * c2)\n",
        "\n",
        "\n",
        "This is the dot product of two vector. [n.b: two vectors must be same length]\n",
        "\n",
        "Here the vector is 1d array"
      ],
      "metadata": {
        "id": "2q_7ve8RQG6r"
      }
    },
    {
      "cell_type": "code",
      "source": [
        "def dot_product(a,b): #here a and b is the two equal sized vectors\n",
        "  return np.sum(a*b) # here the numpy will multiply and make a list of the results, then we are summing the results\n"
      ],
      "metadata": {
        "id": "cM0WlBDyPVH9"
      },
      "execution_count": null,
      "outputs": []
    },
    {
      "cell_type": "code",
      "source": [
        "a= np.array([1,2,3])\n",
        "b = np.array([3,4,5])\n",
        "print(dot_product(a,b))"
      ],
      "metadata": {
        "colab": {
          "base_uri": "https://localhost:8080/"
        },
        "id": "eub1nQW8SoUe",
        "outputId": "e4024225-e432-48d8-d614-da44b083a2e7"
      },
      "execution_count": null,
      "outputs": [
        {
          "output_type": "stream",
          "name": "stdout",
          "text": [
            "26\n"
          ]
        }
      ]
    },
    {
      "cell_type": "markdown",
      "source": [
        "Now the second problem:\n",
        "\n",
        "**A function to compute matrix multiplication.**\n",
        "\n",
        "In general term a Matrix is a 2D array.\n",
        "\n",
        "So here to do matrix multiplication, we must be assure that the inner dimention of the two matrix are same.\n",
        "Such as:\n",
        "```\n",
        "A -> m x n\n",
        "B -> p x q\n",
        "```\n",
        "Here the n and p must be same number. then we will get the result as\n",
        "> A x B -> m x q"
      ],
      "metadata": {
        "id": "PWFzj00wTKy6"
      }
    },
    {
      "cell_type": "code",
      "source": [
        "def matrix_multiplication(A,B): #here A and B both are matrix or 2D array\n",
        "  m,n = A.shape\n",
        "  p,q = B.shape\n",
        "  assert n==p , \"Inner Dimentions must be matched\" # the assert is used to check the condition, if the condition is false the msg will show and this function will be terminated\n",
        "  result = np.zeros([m,q]) # here we have created an m x q zero matrix.\n",
        "  for i in range(m):\n",
        "    for j in range(q):\n",
        "      result[i,j] = np.sum( A[i, : ] * B[ : , j] )\n",
        "  return result"
      ],
      "metadata": {
        "id": "lFFr5mO7VHM0"
      },
      "execution_count": null,
      "outputs": []
    },
    {
      "cell_type": "markdown",
      "source": [
        "Here for\n",
        "> A[i, : ]\n",
        "\n",
        "means that the i th rows every column will be selected\n",
        "> B[ : , j]\n",
        "\n",
        "means that for j th column every row is selected. Then there will be 1D array selected from both matrix, and they will be dot product then sum them up with **np.sum**"
      ],
      "metadata": {
        "id": "d9I8txvMXkmR"
      }
    },
    {
      "cell_type": "markdown",
      "source": [
        "Now we will make two arrays A and B with dimentions of 3x3 and 3x1."
      ],
      "metadata": {
        "id": "RvFbaybyOZE7"
      }
    },
    {
      "cell_type": "code",
      "source": [
        "A = np.array(\n",
        "    [\n",
        "        [1,2,3],\n",
        "        [4,5,6],\n",
        "        [7,8,9]\n",
        "    ]\n",
        ")\n",
        "B = np.array(\n",
        "    [\n",
        "        [1],\n",
        "        [2],\n",
        "        [3]\n",
        "    ]\n",
        ")"
      ],
      "metadata": {
        "id": "fBCAm3iEO2Z4"
      },
      "execution_count": null,
      "outputs": []
    },
    {
      "cell_type": "code",
      "source": [
        "print(matrix_multiplication(A,B))"
      ],
      "metadata": {
        "colab": {
          "base_uri": "https://localhost:8080/"
        },
        "id": "AjIDZK7GYmJo",
        "outputId": "25539968-d651-4b52-9149-ec2c60ffb92c"
      },
      "execution_count": null,
      "outputs": [
        {
          "output_type": "stream",
          "name": "stdout",
          "text": [
            "[[14.]\n",
            " [32.]\n",
            " [50.]]\n"
          ]
        }
      ]
    },
    {
      "cell_type": "markdown",
      "source": [
        "---\n",
        "Third Task:\n",
        "\n",
        "**A function to compute vector norm (magnitude).**\n",
        "\n",
        "vector norm is the squre root of the summetion of every elements squre.\n",
        "> norm(n) = sqrt(sum(v*v))"
      ],
      "metadata": {
        "id": "BJnUzpq9VdBk"
      }
    },
    {
      "cell_type": "code",
      "source": [
        "def vector_norm(v):\n",
        "  return np.sqrt(np.sum(v*v))"
      ],
      "metadata": {
        "id": "eyMj-xkAViOK"
      },
      "execution_count": null,
      "outputs": []
    },
    {
      "cell_type": "code",
      "source": [
        "V = np.array([2,3,4])\n",
        "print(vector_norm(V))"
      ],
      "metadata": {
        "colab": {
          "base_uri": "https://localhost:8080/"
        },
        "id": "s6bq7BGHXI_3",
        "outputId": "926f3581-f199-41f2-9f8c-c672b341122d"
      },
      "execution_count": null,
      "outputs": [
        {
          "output_type": "stream",
          "name": "stdout",
          "text": [
            "5.385164807134504\n"
          ]
        }
      ]
    },
    {
      "cell_type": "markdown",
      "source": [
        "---\n",
        "Fourth Task:\n",
        "\n",
        "**A function to compute the projection of vector a onto vector b.**\n",
        "\n",
        "projectin means that the shadow of vector a on vector b. To do this we have to\n",
        "\n",
        "\n",
        "1.   get dot product of a and b\n",
        "2.   get dot product of b and b\n",
        "3.   devide them to get a single value\n",
        "4.   multiply the value with b vector\n",
        "\n"
      ],
      "metadata": {
        "id": "LtjomtHuXmMU"
      }
    },
    {
      "cell_type": "code",
      "source": [
        "def projection(a,b):\n",
        "  return (dot_product(a,b)/dot_product(b,b))*b"
      ],
      "metadata": {
        "id": "TleDmIL2p1fP"
      },
      "execution_count": null,
      "outputs": []
    },
    {
      "cell_type": "code",
      "source": [
        "a= np.array([3,4])\n",
        "b= np.array([3,0])\n",
        "print(projection(a,b))"
      ],
      "metadata": {
        "colab": {
          "base_uri": "https://localhost:8080/"
        },
        "id": "G-FBPT9wqJsf",
        "outputId": "17380b17-59eb-4b00-c964-3ed21a288c65"
      },
      "execution_count": null,
      "outputs": [
        {
          "output_type": "stream",
          "name": "stdout",
          "text": [
            "[3. 0.]\n"
          ]
        }
      ]
    }
  ]
}